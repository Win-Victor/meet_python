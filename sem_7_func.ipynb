{
  "nbformat": 4,
  "nbformat_minor": 0,
  "metadata": {
    "colab": {
      "provenance": []
    },
    "kernelspec": {
      "name": "python3",
      "display_name": "Python 3"
    },
    "language_info": {
      "name": "python"
    }
  },
  "cells": [
    {
      "cell_type": "code",
      "execution_count": null,
      "metadata": {
        "colab": {
          "base_uri": "https://localhost:8080/"
        },
        "id": "8lcxtltHZa64",
        "outputId": "753c7b5a-8184-4c17-d08c-5a64cd071e84"
      },
      "outputs": [
        {
          "output_type": "stream",
          "name": "stdout",
          "text": [
            "(0, 'марафон')\n",
            "(1, 'персона')\n",
            "(2, 'бежал')\n",
            "(3, 'бежать')\n",
            "(4, 'туфля')\n",
            "(5, 'туфли')\n"
          ]
        }
      ],
      "source": [
        "dictionary = {'марафон': 'гонка бегунов длиной около 26 миль',\n",
        "'персона': 'человек',\n",
        "'бежал': 'бежать в прошедшем времени',\n",
        "'бежать': 'двигаться со скоростью',\n",
        "'туфля': 'род обуви, закрывающей ногу не выше щиколотки',\n",
        "'туфли': 'туфля во множественном числе'}\n",
        "\n",
        "\n",
        "for i in enumerate(dictionary):\n",
        "  print(i)"
      ]
    },
    {
      "cell_type": "code",
      "source": [
        "a = [1, 2, 3, 4, 5, 6]\n",
        "\n",
        "def pow_(x):\n",
        "  return x ** 2\n",
        "\n",
        "b = list(map(pow_, a))\n",
        "\n",
        "print(b)"
      ],
      "metadata": {
        "colab": {
          "base_uri": "https://localhost:8080/"
        },
        "id": "zliXu4V5duam",
        "outputId": "16434f44-9239-4688-f497-9f9f80cec557"
      },
      "execution_count": null,
      "outputs": [
        {
          "output_type": "stream",
          "name": "stdout",
          "text": [
            "[1, 4, 9, 16, 25, 36]\n"
          ]
        }
      ]
    },
    {
      "cell_type": "markdown",
      "source": [],
      "metadata": {
        "id": "tmaYjAFwghi8"
      }
    },
    {
      "cell_type": "code",
      "source": [
        "a = [1, 2, 3, 4, 5, 6]\n",
        "b = list(filter(lambda x: True if x % 2 == 0 else False, a))\n",
        "print(f'{b = }')\n",
        "\n",
        "c = list(filter(lambda x: x % 2, a)) # a - это список для работы, x % 2 - если \n",
        "# остаток от деления элемента на 2 остаток будет 0 - значит false - значит\n",
        "# элемент отфильтровывается, если 1 - входит в новый список. ТО нечетные входят,\n",
        "# четные - нет. Если надо наоборот - нужно not перед x % 2\n",
        "print(f'{c = }')\n"
      ],
      "metadata": {
        "colab": {
          "base_uri": "https://localhost:8080/"
        },
        "id": "NJ_2gl8lexBM",
        "outputId": "500cd24a-8ffd-4a78-e189-e5a5401b2f41"
      },
      "execution_count": null,
      "outputs": [
        {
          "output_type": "stream",
          "name": "stdout",
          "text": [
            "b = [2, 4, 6]\n",
            "c = [1, 3, 5]\n"
          ]
        }
      ]
    },
    {
      "cell_type": "code",
      "source": [
        "a = [(1, 0, 5), (3, 0, 4), (-5, -1, 3), (5, -2, 2)]\n",
        "a.sort(key = lambda x: (x[1], x[2])) # сортировка по 1-му элементу, \n",
        "                                     # а если равны то по 2-му\n",
        "print(a)\n",
        "\n",
        "a.sort(key = lambda x: (x[1], x[2]), reverse = True)\n",
        "# если надо в обратном порядке\n",
        "print(a)\n",
        "\n",
        "\n",
        "maxx = max(a, key=lambda x: x[2])  # сортировка по последнему элементу в кортеже\n",
        "print(maxx)"
      ],
      "metadata": {
        "colab": {
          "base_uri": "https://localhost:8080/"
        },
        "id": "zn7SCI2q1JC1",
        "outputId": "7e7f9579-6a56-43f3-ca29-9eb8a9fa61fd"
      },
      "execution_count": null,
      "outputs": [
        {
          "output_type": "stream",
          "name": "stdout",
          "text": [
            "[(5, -2, 2), (-5, -1, 3), (3, 0, 4), (1, 0, 5)]\n",
            "[(1, 0, 5), (3, 0, 4), (-5, -1, 3), (5, -2, 2)]\n",
            "(1, 0, 5)\n"
          ]
        }
      ]
    },
    {
      "cell_type": "markdown",
      "source": [
        "## Задача №49. Решение в группах\n",
        "\n",
        "Планеты вращаются вокруг звезд по эллиптическим орбитам.\n",
        "Назовем самой далекой планетой ту, орбита которой имеет\n",
        "самую большую площадь. Напишите функцию\n",
        "find_farthest_orbit(list_of_orbits), которая среди списка орбит\n",
        "планет найдет ту, по которой вращается самая далекая\n",
        "планета. Круговые орбиты не учитывайте: вы знаете, что у\n",
        "вашей звезды таких планет нет, зато искусственные спутники\n",
        "были были запущены на круговые орбиты. Результатом\n",
        "функции должен быть кортеж, содержащий длины полуосей\n",
        "эллипса орбиты самой далекой планеты. Каждая орбита\n",
        "представляет из себя кортеж из пары чисел - полуосей ее\n",
        "эллипса. Площадь эллипса вычисляется по формуле \n",
        "\n",
        "  S = pi \\* a \\* b,\n",
        "\n",
        "где a и b - длины полуосей эллипса. При решении задачи\n",
        "используйте списочные выражения. Подсказка: проще всего\n",
        "будет найти эллипс в два шага: сначала вычислить самую\n",
        "большую площадь эллипса, а затем найти и сам эллипс,\n",
        "имеющий такую площадь. Гарантируется, что самая далекая\n",
        "планета ровно одна\n",
        "\n",
        "Ввод: \n",
        "  orbits = [(1, 3), (2.5, 10), (7, 2), (6, 6), (4, 3)]\n",
        "\n",
        "\n",
        "print(*find_farthest_orbit(orbits))\n",
        "\n",
        "Вывод:\n",
        "\n",
        "  2.5 10"
      ],
      "metadata": {
        "id": "WL94QcwD4qih"
      }
    },
    {
      "cell_type": "code",
      "source": [
        "from math import pi\n",
        "\n",
        "orbits = [(1, 3), (2.5, 10), (7, 2), (6, 6), (4, 3)]\n",
        "\n",
        "def find_farthest_orbit(list_of_orbits):\n",
        "  maxx = max(list(filter(lambda x: x[0] != x[1], list_of_orbits)), \n",
        "             key=lambda x: pi * x[0] * x[1])\n",
        "  print(*maxx)\n",
        "\n",
        "find_farthest_orbit(orbits)\n"
      ],
      "metadata": {
        "colab": {
          "base_uri": "https://localhost:8080/"
        },
        "id": "VWQDygK-EZ_E",
        "outputId": "4f188d86-e8dd-4775-fcff-d2353096b899"
      },
      "execution_count": null,
      "outputs": [
        {
          "output_type": "stream",
          "name": "stdout",
          "text": [
            "2.5 10\n"
          ]
        }
      ]
    },
    {
      "cell_type": "markdown",
      "source": [
        "Задача №51. Решение в группах\n",
        "\n",
        "\n",
        "Напишите функцию same_by(characteristic, objects), которая\n",
        "проверяет, все ли объекты имеют одинаковое значение\n",
        "некоторой характеристики, и возвращают True, если это так.\n",
        "Если значение характеристики для разных объектов\n",
        "отличается - то False. Для пустого набора объектов, функция\n",
        "должна возвращать True. Аргумент characteristic - это\n",
        "функция, которая принимает объект и вычисляет его\n",
        "характеристику.\n",
        "\n",
        "\n",
        "Ввод:\n",
        "\n",
        "values = [0, 2, 10, 6] \n",
        "\n",
        "\n",
        "if same_by(lambda x: x % 2, values):\n",
        "\n",
        "  print(‘same’)\n",
        "\n",
        "else:\n",
        "\n",
        "   print(‘different’)\n",
        "\n",
        " Вывод:\n",
        "\n",
        " same"
      ],
      "metadata": {
        "id": "goR0AWedHymg"
      }
    },
    {
      "cell_type": "code",
      "source": [
        "values_1 = [0, 2, 10, 6]\n",
        "foo1 = lambda x: x % 2 == 0\n",
        "\n",
        "values_2 = [3, 6, 9, 12]\n",
        "\n",
        "foo2 = lambda x: x % 3 == 0\n",
        "\n",
        "values_3 = []\n",
        "\n",
        "\n",
        "def same_by(foo, values):  # lambda x: x % 2\n",
        "  list_res = list(filter(foo, values))\n",
        "\n",
        "  print(list_res)\n",
        "  if len(values) == 0:\n",
        "    return True\n",
        "  elif len(list_res) != len(values):\n",
        "    return False\n",
        "  else:\n",
        "    return True\n",
        "\n",
        "# same_by(foo1, values_1)\n",
        "\n",
        "# same_by(foo2, values_2)\n",
        "\n",
        "same_by(foo2, values_3)\n",
        "\n"
      ],
      "metadata": {
        "colab": {
          "base_uri": "https://localhost:8080/"
        },
        "id": "QSuTcitdOYxK",
        "outputId": "77913e73-5fa4-42ca-c461-baf0394ec538"
      },
      "execution_count": null,
      "outputs": [
        {
          "output_type": "stream",
          "name": "stdout",
          "text": [
            "[]\n"
          ]
        },
        {
          "output_type": "execute_result",
          "data": {
            "text/plain": [
              "True"
            ]
          },
          "metadata": {},
          "execution_count": 34
        }
      ]
    },
    {
      "cell_type": "markdown",
      "source": [
        "# Домашнее задание"
      ],
      "metadata": {
        "id": "EN4FBjsEgrZZ"
      }
    },
    {
      "cell_type": "markdown",
      "source": [
        "Задача 34:  Винни-Пух попросил Вас посмотреть, есть ли в его стихах ритм. Поскольку разобраться в его кричалках не настолько просто, насколько легко он их придумывает, Вам стоит написать программу. Винни-Пух считает, что ритм есть, если число слогов (т.е. число гласных букв) в каждой фразе стихотворения одинаковое. Фраза может состоять из одного слова, если во фразе несколько слов, то они разделяются дефисами. Фразы отделяются друг от друга пробелами. Стихотворение  Винни-Пух вбивает в программу с клавиатуры. В ответе напишите “Парам пам-пам”, если с ритмом все в порядке и “Пам парам”, если с ритмом все не в порядке\n",
        "\n",
        "*Пример:*\n",
        "\n",
        "**Ввод:** пара-ра-рам рам-пам-папам па-ра-па-да    \n",
        "    **Вывод:** Парам пам-пам "
      ],
      "metadata": {
        "id": "0GhDTJmeiTbD"
      }
    },
    {
      "cell_type": "code",
      "source": [
        "def winni(song):\n",
        "  words = song.split()\n",
        "  counts = []\n",
        "  for word in words:\n",
        "    count = 0\n",
        "    for letter in word:\n",
        "      if letter in ['й', 'у', 'е', 'ы', 'а', 'о', 'э', 'я', 'и', 'ю']:\n",
        "        count += 1\n",
        "    counts.append(count)\n",
        "\n",
        "  if len(set(counts)) > 1:\n",
        "    print('Пам парам')\n",
        "  else:\n",
        "    print('Парам пам-пам')\n",
        "\n",
        "winni('пара-ра-рам рам-пам-папам па-ра-па-да')\n",
        "\n",
        "winni('пара-ра-рам рам-пам-папам па-ра-па')\n",
        "\n",
        "winni('тили-тили трали-вали')"
      ],
      "metadata": {
        "colab": {
          "base_uri": "https://localhost:8080/"
        },
        "id": "X_TlFP-nijhx",
        "outputId": "176e4f08-317b-4819-ea8a-cb27cf0395fc"
      },
      "execution_count": null,
      "outputs": [
        {
          "output_type": "stream",
          "name": "stdout",
          "text": [
            "Парам пам-пам\n",
            "Пам парам\n",
            "Парам пам-пам\n"
          ]
        }
      ]
    },
    {
      "cell_type": "markdown",
      "source": [
        "Задача 36: Напишите функцию print_operation_table(operation, num_rows=6, num_columns=6), которая принимает в качестве аргумента функцию, вычисляющую элемент по номеру строки и столбца. Аргументы num_rows и num_columns указывают число строк и столбцов таблицы, которые должны быть распечатаны. Нумерация строк и столбцов идет с единицы (подумайте, почему не с нуля). Примечание: бинарной операцией называется любая операция, у которой ровно два аргумента, как, например, у операции умножения.\n",
        "\n",
        "*Пример:*\n",
        "\n",
        "**Ввод:** \n",
        "\n",
        "`print_operation_table(lambda x, y: x * y) ` \n",
        "\n",
        "\n",
        "**Вывод:**\n",
        "\n",
        "\n",
        "1 2 3 4 5 6\n",
        "\n",
        "\n",
        "2 4 6 8 10 12\n",
        "\n",
        "3 6 9 12 15 18\n",
        "\n",
        "4 8 12 16 20 24\n",
        "\n",
        "5 10 15 20 25 30\n",
        "\n",
        "6 12 18 24 30 36"
      ],
      "metadata": {
        "id": "RTgL7wy-ih2S"
      }
    },
    {
      "cell_type": "code",
      "source": [
        "def print_operation_table(operation, num_rows=6, num_columns=6):\n",
        "  for r in range(1, num_rows + 1):\n",
        "    row = [] \n",
        "    for c in range(1, num_columns + 1):\n",
        "      row.append(str(operation(r, c))) \n",
        "    print(\"\\t\".join(row))\n",
        "\n",
        "print_operation_table(lambda x, y: x * y)\n",
        "print('\\n')\n",
        "print_operation_table(lambda x, y: x * y, 8, 8)\n"
      ],
      "metadata": {
        "colab": {
          "base_uri": "https://localhost:8080/"
        },
        "id": "LEskp5EwpoeL",
        "outputId": "0bbcf396-2146-40d2-8853-a56780410926"
      },
      "execution_count": null,
      "outputs": [
        {
          "output_type": "stream",
          "name": "stdout",
          "text": [
            "1\t2\t3\t4\t5\t6\n",
            "2\t4\t6\t8\t10\t12\n",
            "3\t6\t9\t12\t15\t18\n",
            "4\t8\t12\t16\t20\t24\n",
            "5\t10\t15\t20\t25\t30\n",
            "6\t12\t18\t24\t30\t36\n",
            "\n",
            "\n",
            "1\t2\t3\t4\t5\t6\t7\t8\n",
            "2\t4\t6\t8\t10\t12\t14\t16\n",
            "3\t6\t9\t12\t15\t18\t21\t24\n",
            "4\t8\t12\t16\t20\t24\t28\t32\n",
            "5\t10\t15\t20\t25\t30\t35\t40\n",
            "6\t12\t18\t24\t30\t36\t42\t48\n",
            "7\t14\t21\t28\t35\t42\t49\t56\n",
            "8\t16\t24\t32\t40\t48\t56\t64\n"
          ]
        }
      ]
    }
  ]
}