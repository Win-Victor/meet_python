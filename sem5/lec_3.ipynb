{
  "nbformat": 4,
  "nbformat_minor": 0,
  "metadata": {
    "colab": {
      "provenance": []
    },
    "kernelspec": {
      "name": "python3",
      "display_name": "Python 3"
    },
    "language_info": {
      "name": "python"
    }
  },
  "cells": [
    {
      "cell_type": "code",
      "execution_count": null,
      "metadata": {
        "colab": {
          "base_uri": "https://localhost:8080/"
        },
        "id": "pl-_qbZcF7Ed",
        "outputId": "9ca4493f-27da-4b3f-f670-85584402c6b8"
      },
      "outputs": [
        {
          "output_type": "stream",
          "name": "stdout",
          "text": [
            "[1, 2, 3, 5, 10, 11, 22, 33, 77]\n"
          ]
        }
      ],
      "source": [
        "def quicksort(array):\n",
        "\n",
        "  if len(array) < 2:\n",
        "    return array\n",
        "  else:\n",
        "    pivot = array[0]\n",
        "    less = [i for i in array[1:] if i <= pivot]\n",
        "    greater = [i for i in array[1:] if i > pivot]\n",
        "    return quicksort(less) + [pivot] + quicksort(greater)\n",
        "\n",
        "\n",
        "# print(quicksort([10, 5, 2, 3]))\n",
        "\n",
        "print(quicksort([10, 77, 33, 5, 22, 2, 11, 3, 1]))"
      ]
    },
    {
      "cell_type": "code",
      "source": [
        "def factorial(n):\n",
        "  if n == 0:\n",
        "    return 1\n",
        "  else:\n",
        "    return n * factorial(n - 1)\n",
        "\n",
        "\n",
        "for i in range(30):\n",
        "  print(f'{i} - {factorial(i)}')"
      ],
      "metadata": {
        "colab": {
          "base_uri": "https://localhost:8080/"
        },
        "id": "lWGPbshgKxYC",
        "outputId": "9f11cc5e-271e-4afa-f3a7-04cab1b65520"
      },
      "execution_count": null,
      "outputs": [
        {
          "output_type": "stream",
          "name": "stdout",
          "text": [
            "0 - 1\n",
            "1 - 1\n",
            "2 - 2\n",
            "3 - 6\n",
            "4 - 24\n",
            "5 - 120\n",
            "6 - 720\n",
            "7 - 5040\n",
            "8 - 40320\n",
            "9 - 362880\n",
            "10 - 3628800\n",
            "11 - 39916800\n",
            "12 - 479001600\n",
            "13 - 6227020800\n",
            "14 - 87178291200\n",
            "15 - 1307674368000\n",
            "16 - 20922789888000\n",
            "17 - 355687428096000\n",
            "18 - 6402373705728000\n",
            "19 - 121645100408832000\n",
            "20 - 2432902008176640000\n",
            "21 - 51090942171709440000\n",
            "22 - 1124000727777607680000\n",
            "23 - 25852016738884976640000\n",
            "24 - 620448401733239439360000\n",
            "25 - 15511210043330985984000000\n",
            "26 - 403291461126605635584000000\n",
            "27 - 10888869450418352160768000000\n",
            "28 - 304888344611713860501504000000\n",
            "29 - 8841761993739701954543616000000\n"
          ]
        }
      ]
    },
    {
      "cell_type": "markdown",
      "source": [
        "# Семинар"
      ],
      "metadata": {
        "id": "ngFqIYrRaQiV"
      }
    },
    {
      "cell_type": "markdown",
      "source": [
        "Задача №31. Решение в группах\n",
        "Последовательностью Фибоначчи называется\n",
        "последовательность чисел a0\n",
        ", a1\n",
        ", ..., an\n",
        ", ..., где\n",
        "\n",
        "\n",
        "a0\n",
        " = 0, a1\n",
        " = 1, ak\n",
        " = ak-1 + ak-2 (k > 1).\n",
        "\n",
        "\n",
        "Требуется найти N-е число Фибоначчи\n",
        "\n",
        "Input: 7\n",
        "\n",
        "Output: 21\n",
        "\n",
        "Задание необходимо решать через рекурсию\n"
      ],
      "metadata": {
        "id": "_ahjfE25Reaa"
      }
    },
    {
      "cell_type": "code",
      "source": [
        "def get_n_fib(n):\n",
        "    if n == 1:\n",
        "      return 0\n",
        "    if n in [2, 3]:\n",
        "      return 1\n",
        "    return get_n_fib(n - 1) + get_n_fib(n - 2)\n",
        " \n",
        "print(get_n_fib(10))\n",
        "\n",
        "print()\n",
        "\n",
        "for i in range(1, 21):\n",
        "  print(f'{i}: {get_n_fib(i)}')"
      ],
      "metadata": {
        "colab": {
          "base_uri": "https://localhost:8080/"
        },
        "id": "ep9J5uITRs-e",
        "outputId": "e6ae9199-e341-4f6e-8ae4-03f7009e8bbe"
      },
      "execution_count": null,
      "outputs": [
        {
          "output_type": "stream",
          "name": "stdout",
          "text": [
            "34\n",
            "\n",
            "1: 0\n",
            "2: 1\n",
            "3: 1\n",
            "4: 2\n",
            "5: 3\n",
            "6: 5\n",
            "7: 8\n",
            "8: 13\n",
            "9: 21\n",
            "10: 34\n",
            "11: 55\n",
            "12: 89\n",
            "13: 144\n",
            "14: 233\n",
            "15: 377\n",
            "16: 610\n",
            "17: 987\n",
            "18: 1597\n",
            "19: 2584\n",
            "20: 4181\n"
          ]
        }
      ]
    },
    {
      "cell_type": "markdown",
      "source": [
        "Задача №33. \n",
        "Решение в группах\n",
        "Хакер Василий получил доступ к классному журналу и\n",
        "хочет заменить все свои минимальные оценки на\n",
        "максимальные. Напишите программу, которая\n",
        "заменяет оценки Василия, но наоборот: все\n",
        "максимальные – на минимальные.\n",
        "\n",
        "Input: 5 -> 1 3 3 3 4\n",
        "\n",
        "Output: 1 3 3 3 1\n"
      ],
      "metadata": {
        "id": "iBwIeCfNaAu2"
      }
    },
    {
      "cell_type": "code",
      "source": [
        "count = int(input('Сколько у Васи оценок?'))\n",
        "\n",
        "ratings = [int(input('Вводите оценки от 1 до 5: \\n')) for i in range(count)]\n",
        "\n",
        "print(ratings) \n",
        "\n",
        "min_ = 6\n",
        "max_ = 0\n",
        "inds_max = []\n",
        "\n",
        "for i in range(len(ratings)):\n",
        "  if ratings[i] < min_:\n",
        "    min_ = ratings[i]\n",
        "  elif ratings[i] > max_:\n",
        "    max_ = ratings[i]\n",
        "    inds_max.clear()\n",
        "    inds_max.append(i)\n",
        "  elif ratings[i] == max_:\n",
        "    inds_max.append(i)\n",
        "\n",
        "for i in inds_max:\n",
        "  ratings[i] = min_\n",
        "\n",
        "print(ratings)\n"
      ],
      "metadata": {
        "colab": {
          "base_uri": "https://localhost:8080/"
        },
        "id": "98eYqbCpVee3",
        "outputId": "bd83e07b-05c8-43f7-8e65-60b4b60691ff"
      },
      "execution_count": null,
      "outputs": [
        {
          "output_type": "stream",
          "name": "stdout",
          "text": [
            "Сколько у Васи оценок?10\n",
            "Вводите оценки от 1 до 5: \n",
            "1\n",
            "Вводите оценки от 1 до 5: \n",
            "1\n",
            "Вводите оценки от 1 до 5: \n",
            "2\n",
            "Вводите оценки от 1 до 5: \n",
            "3\n",
            "Вводите оценки от 1 до 5: \n",
            "4\n",
            "Вводите оценки от 1 до 5: \n",
            "5\n",
            "Вводите оценки от 1 до 5: \n",
            "5\n",
            "Вводите оценки от 1 до 5: \n",
            "5\n",
            "Вводите оценки от 1 до 5: \n",
            "3\n",
            "Вводите оценки от 1 до 5: \n",
            "4\n",
            "[1, 1, 2, 3, 4, 5, 5, 5, 3, 4]\n",
            "[1, 1, 2, 3, 4, 1, 1, 1, 3, 4]\n"
          ]
        }
      ]
    },
    {
      "cell_type": "markdown",
      "source": [
        "Задача №35.\n",
        " Решение в группах\n",
        "Напишите функцию, которая принимает одно число и\n",
        "проверяет, является ли оно простым\n",
        "\n",
        "Напоминание: Простое число - это число, которое\n",
        "имеет 2 делителя: 1 и n(само число)\n",
        "\n",
        "Input: 5\n",
        "\n",
        "Output: yes"
      ],
      "metadata": {
        "id": "Uo0GLeMxJWbT"
      }
    },
    {
      "cell_type": "code",
      "source": [
        "def prostoe(n):\n",
        "  for i in range(2, n):\n",
        "    if n % i == 0:\n",
        "      return 'no'\n",
        "    else:\n",
        "      return 'yes'\n",
        "\n",
        "print(prostoe(6))\n",
        "print(prostoe(17))\n"
      ],
      "metadata": {
        "colab": {
          "base_uri": "https://localhost:8080/"
        },
        "id": "ke6VrvnJJd0x",
        "outputId": "1a900593-57b4-4bdc-e93b-00456a31d990"
      },
      "execution_count": 5,
      "outputs": [
        {
          "output_type": "stream",
          "name": "stdout",
          "text": [
            "no\n",
            "yes\n"
          ]
        }
      ]
    },
    {
      "cell_type": "markdown",
      "source": [
        "Задача №37. \n",
        "Решение в группах\n",
        "\n",
        "Дано натуральное число N и\n",
        "последовательность из N элементов.\n",
        "Требуется вывести эту последовательность в\n",
        "обратном порядке.\n",
        "\n",
        "\n",
        "Примечание. В программе запрещается\n",
        "объявлять массивы и использовать циклы\n",
        "(даже для ввода и вывода).\n",
        "\n",
        "Input: 2 -> 3 4\n",
        "\n",
        "\n",
        "Output: 4 3"
      ],
      "metadata": {
        "id": "y9WEP7sJrRmU"
      }
    },
    {
      "cell_type": "code",
      "source": [
        "def reverce(count, numb = ''):\n",
        "  numb = input('Введите число')\n",
        "  if count == 1:\n",
        "    return numb\n",
        "  else:\n",
        "    return reverce(count - 1, numb = '') + numb\n",
        "  \n",
        "count = int(input('Введите count: \\n'))\n",
        "\n",
        "print(reverce(count))\n",
        " "
      ],
      "metadata": {
        "colab": {
          "base_uri": "https://localhost:8080/"
        },
        "id": "9WEgv6hJrg0i",
        "outputId": "c57fee83-287f-423b-ab54-ed1418b52372"
      },
      "execution_count": 6,
      "outputs": [
        {
          "output_type": "stream",
          "name": "stdout",
          "text": [
            "Введите count: \n",
            "5\n",
            "Введите число1\n",
            "Введите число3\n",
            "Введите число5\n",
            "Введите число7\n",
            "Введите число9\n",
            "97531\n"
          ]
        }
      ]
    }
  ]
}