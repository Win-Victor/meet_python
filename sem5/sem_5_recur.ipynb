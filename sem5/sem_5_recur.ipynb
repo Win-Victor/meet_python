{
  "nbformat": 4,
  "nbformat_minor": 0,
  "metadata": {
    "colab": {
      "provenance": []
    },
    "kernelspec": {
      "name": "python3",
      "display_name": "Python 3"
    },
    "language_info": {
      "name": "python"
    }
  },
  "cells": [
    {
      "cell_type": "markdown",
      "source": [
        "\n",
        "# Домашняя работа\n",
        "\n",
        "Урок 5. Рекурсия и алгоритмы\n",
        "\n",
        "Задача 26:  \n",
        "Напишите программу, которая на вход принимает два числа A и B, и возводит число А в целую степень B с помощью рекурсии.\n",
        "\n",
        "*Пример:*\n",
        "\n",
        "A = 3; B = 5 -> 243 \n",
        "(3⁵)\n",
        "\n",
        "\n",
        "A = 2; B = 3 -> 8"
      ],
      "metadata": {
        "id": "aolresTvEe7V"
      }
    },
    {
      "cell_type": "code",
      "source": [
        "def rec_pow(A, B):\n",
        "  if B == 0:\n",
        "    return 1\n",
        "  elif B == 1:\n",
        "    return A\n",
        "  elif B > 1:\n",
        "    return A * rec_pow(A, B - 1)\n",
        "\n",
        "print(rec_pow(3, 5))\n",
        "print(rec_pow(2, 3))"
      ],
      "metadata": {
        "colab": {
          "base_uri": "https://localhost:8080/"
        },
        "id": "0uwlyGEvFO4N",
        "outputId": "cbea7553-3cbe-494f-8a58-b9484fcd985c"
      },
      "execution_count": null,
      "outputs": [
        {
          "output_type": "stream",
          "name": "stdout",
          "text": [
            "243\n",
            "8\n"
          ]
        }
      ]
    },
    {
      "cell_type": "markdown",
      "source": [
        "\n",
        "Задача 28: \n",
        "Напишите рекурсивную функцию sum(a, b), возвращающую сумму двух целых неотрицательных чисел. Из всех арифметических операций допускаются только +1 и -1. \n",
        "Также нельзя использовать циклы.\n",
        "\n",
        "*Пример:*\n",
        "2 2\n",
        "\n",
        "    4"
      ],
      "metadata": {
        "id": "OLCLxRN2H93h"
      }
    },
    {
      "cell_type": "code",
      "execution_count": null,
      "metadata": {
        "colab": {
          "base_uri": "https://localhost:8080/"
        },
        "id": "0q8ygQXi9qv9",
        "outputId": "b9dab66a-cfcc-440d-9e74-41262e0c37b4"
      },
      "outputs": [
        {
          "output_type": "stream",
          "name": "stdout",
          "text": [
            "4\n",
            "12\n",
            "14\n",
            "600\n"
          ]
        }
      ],
      "source": [
        "def cut_sum(a, b):\n",
        "  if a == 1 and b == 1:\n",
        "    return 1 + 1\n",
        "  elif a == 1 and b > 1:\n",
        "    return 1 + cut_sum(1, b - 1)\n",
        "  elif a > 1 and b == 1:\n",
        "    return 1 + cut_sum(a - 1, 1)\n",
        "  else:\n",
        "    return 2 + cut_sum(a - 1, b - 1)\n",
        "\n",
        "print(cut_sum(2, 2)) \n",
        "print(cut_sum(6, 6))\n",
        "print(cut_sum(2, 12))\n",
        "print(cut_sum(285, 315))"
      ]
    }
  ]
}