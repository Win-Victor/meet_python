{
  "cells": [
    {
      "cell_type": "markdown",
      "metadata": {
        "id": "7_50tkW2MFwr"
      },
      "source": [
        "Задача №25. Решение в группах\n",
        "Напишите программу, которая принимает на вход\n",
        "строку, и отслеживает, сколько раз каждый символ\n",
        "уже встречался. Количество повторов добавляется к\n",
        "символам с помощью постфикса формата _n.\n",
        "\n",
        "Input: a a a b c a a d c d d\n",
        "\n",
        "Output: a a_1 a_2 b c a_3 a_4 d c_1 d_1 d_2\n",
        "\n",
        "Для решения данной задачи используйте функцию\n",
        ".split()\n"
      ]
    },
    {
      "cell_type": "code",
      "execution_count": null,
      "metadata": {
        "colab": {
          "base_uri": "https://localhost:8080/"
        },
        "id": "FFKPRLeRMAL2",
        "outputId": "aa7275fb-c910-484b-c977-58b859704aa9"
      },
      "outputs": [
        {
          "name": "stdout",
          "output_type": "stream",
          "text": [
            "Этот вариант, если нужно split применить обязательно\n",
            "['a', 'a', 'a', 'b', 'c', 'a', 'a', 'd', 'c', 'd', 'd']\n",
            "['a', 'a_1', 'a_2', 'b', 'c', 'a_3', 'a_4', 'd', 'c_1', 'd_1', 'd_2']\n",
            "Этот вариант больше похож на пример в задании\n",
            "a a a b c a a d c d d\n",
            "a a_1 a_2 b c a_3 a_4 d c_1 d_1 d_2\n"
          ]
        }
      ],
      "source": [
        "my_str = 'a a a b c a a d c d d'\n",
        "\n",
        "# Этот вариант, если нужно split применить обязательно\n",
        "\n",
        "print('Этот вариант, если нужно split применить обязательно')\n",
        "\n",
        "my_list = my_str.split()\n",
        "print(my_list)\n",
        "for i in range(len(my_list)):\n",
        "  if my_list.count(my_list[(i + 1) * -1]) > 1:\n",
        "    my_list[(i + 1) * -1] += f'_{str(my_list.count(my_list[(i + 1) * -1]) - 1)}'\n",
        "\n",
        "print(my_list)\n",
        "\n",
        "\n",
        "# Этот вариант больше похож на пример в задании\n",
        "print('Этот вариант больше похож на пример в задании')\n",
        "\n",
        "print(my_str)\n",
        "new_str = ''\n",
        "\n",
        "for i in range(len(my_str)):\n",
        "  if my_str[i] != ' ' and my_str.count(my_str[i], 0, i) > 0:\n",
        "    new_str += f'{my_str[i]}_{my_str.count(my_str[i], 0, i)}'\n",
        "  else: \n",
        "    new_str += my_str[i]\n",
        "\n",
        "print(new_str)\n"
      ]
    },
    {
      "cell_type": "markdown",
      "metadata": {
        "id": "WlyWN8IcagfU"
      },
      "source": [
        "Задача №27. Решение в группах\n",
        "\n",
        "Пользователь вводит текст(строка). Словом считается\n",
        "последовательность непробельных символов идущих\n",
        "подряд, слова разделены одним или большим числом\n",
        "пробелов. Определите, сколько различных слов\n",
        "содержится в этом тексте.\n",
        "\n",
        "Input: She sells sea shells on the sea shore The shells\n",
        "that she sells are sea shells I'm sure.So if she sells sea\n",
        "shells on the sea shore I'm sure that the shells are sea\n",
        "shore shells\n",
        "\n",
        "\n",
        "Output: 13\n"
      ]
    },
    {
      "cell_type": "code",
      "execution_count": 39,
      "metadata": {
        "colab": {
          "base_uri": "https://localhost:8080/"
        },
        "id": "yrp9doopardU",
        "outputId": "5296dc1a-576f-4de8-e28e-3c2386181683"
      },
      "outputs": [
        {
          "name": "stdout",
          "output_type": "stream",
          "text": [
            "She sells sea shells on the sea shore The shells that she sells are sea shells I'm sure.So if she sells sea shells on the sea shore I'm sure that the shells are sea shore shells\n",
            "SHE SELLS SEA SHELLS ON THE SEA SHORE THE SHELLS THAT SHE SELLS ARE SEA SHELLS I'M SURE.SO IF SHE SELLS SEA SHELLS ON THE SEA SHORE I'M SURE THAT THE SHELLS ARE SEA SHORE SHELLS\n",
            "['SHE', 'SELLS', 'SEA', 'SHELLS', 'ON', 'THE', 'SEA', 'SHORE', 'THE', 'SHELLS', 'THAT', 'SHE', 'SELLS', 'ARE', 'SEA', 'SHELLS', \"I'M\", 'SURE', 'SO', 'IF', 'SHE', 'SELLS', 'SEA', 'SHELLS', 'ON', 'THE', 'SEA', 'SHORE', \"I'M\", 'SURE', 'THAT', 'THE', 'SHELLS', 'ARE', 'SEA', 'SHORE', 'SHELLS']\n",
            "В этом тексте содержится 13 различных слов.\n"
          ]
        }
      ],
      "source": [
        "text_ =  \"She sells sea shells on the sea shore The shells that she sells are \\\n",
        "sea shells I'm sure.So if she sells sea shells on the sea shore I'm sure that \\\n",
        "the shells are sea shore shells\"\n",
        "\n",
        "print(text_)\n",
        "text_ = text_.upper()\n",
        "print(text_)\n",
        "text_ = text_.replace(\".\", \" \").split()\n",
        "print(text_)\n",
        "set_text = set(text_)\n",
        "print(f'В этом тексте содержится {len(set_text)} различных слов.')"
      ]
    },
    {
      "cell_type": "markdown",
      "metadata": {
        "id": "DQzyQonXirpg"
      },
      "source": [
        "“Задана последовательность неотрицательных целых чисел. Требуется определить значение наибольшего элемента последовательности, которая завершается первым встретившимся нулем (число 0 не входит в последовательность)”."
      ]
    },
    {
      "cell_type": "code",
      "execution_count": 40,
      "metadata": {
        "colab": {
          "base_uri": "https://localhost:8080/"
        },
        "id": "Skj9bu6NiuY7",
        "outputId": "a95ef739-c06a-47b6-84fd-2ccdd09ccde3"
      },
      "outputs": [
        {
          "name": "stdout",
          "output_type": "stream",
          "text": [
            "1\n",
            "2\n",
            "3\n",
            "-3\n",
            "0\n",
            "max_ = 3\n"
          ]
        }
      ],
      "source": [
        "number_ = int(input())\n",
        "max_ = number_\n",
        "\n",
        "while number_ != 0:\n",
        "  if number_ > max_:\n",
        "    max_ = number_\n",
        "  number_ = int(input())\n",
        "    \n",
        "\n",
        "print(f'{max_ = }')\n"
      ]
    },
    {
      "cell_type": "markdown",
      "metadata": {
        "id": "va88Y5jj4XSp"
      },
      "source": [
        "# Домашнее задание"
      ]
    },
    {
      "cell_type": "markdown",
      "metadata": {
        "id": "u-w5RD7BnUDL"
      },
      "source": [
        "##Задача 22: \n",
        "\n",
        "Даны два неупорядоченных набора целых чисел (может быть, с\n",
        "повторениями). Выдать без повторений в порядке возрастания все те числа, которые\n",
        "встречаются в обоих наборах.\n",
        "\n",
        "Пользователь вводит 2 числа. n - кол-во элементов первого множества. m - кол-во\n",
        "элементов второго множества. Затем пользователь вводит сами элементы множеств.\n",
        "\n",
        "11 6\n",
        "\n",
        "2 4 6 8 10 12 10 8 6 4 2\n",
        "\n",
        "3 6 9 12 15 18\n",
        "\n",
        "6 12"
      ]
    },
    {
      "cell_type": "code",
      "execution_count": null,
      "metadata": {
        "colab": {
          "base_uri": "https://localhost:8080/"
        },
        "id": "hh0TYeMYnbY0",
        "outputId": "c878dfc5-bd3b-4295-b200-ef3da49fdac2"
      },
      "outputs": [
        {
          "name": "stdout",
          "output_type": "stream",
          "text": [
            "Списки есть. Будем вводить новые?\n",
            "[2, 4, 6, 8, 10, 12, 10, 8, 6, 4, 2]\n",
            "[3, 6, 9, 12, 15, 18]\n",
            "Eсли используем готовые списки, введите \"N\", \n",
            "если будете вводить - \"Y\"\n",
            "n\n",
            "Работаем со списками: \n",
            "[2, 4, 6, 8, 10, 12, 10, 8, 6, 4, 2]\n",
            "[3, 6, 9, 12, 15, 18]\n",
            "Вывод: [6, 12]\n"
          ]
        }
      ],
      "source": [
        "list_1 = [2, 4, 6, 8, 10, 12, 10, 8, 6, 4, 2]\n",
        "list_2 = [3, 6, 9, 12, 15, 18]\n",
        "\n",
        "def get_list_numbers():\n",
        "  new_list = []\n",
        "  while True:\n",
        "    length = input('Сколько чисел будет в списке?\\n')\n",
        "    if length.isdigit():\n",
        "      length = int(length)\n",
        "      for i in range(length):\n",
        "        while True:\n",
        "          temp = input(f'Введите {i + 1}-e число:\\n')\n",
        "          if temp.isdigit() or temp[1:].isdigit(): \n",
        "            new_list.append(int(temp))\n",
        "            break\n",
        "          else:\n",
        "            print('Вводите числа!')\n",
        "      break\n",
        "    else:\n",
        "        print('Введите число целое положительное число:\\n')\n",
        "  return new_list\n",
        "\n",
        "print('Списки есть. Будем вводить новые?')\n",
        "print(list_1, list_2, sep='\\n')\n",
        "text_question = 'Eсли используем готовые списки, введите \"N\", \\n\\\n",
        "если будете вводить - \"Y\"\\n'\n",
        "\n",
        "need_imput = None\n",
        "\n",
        "while True:\n",
        "  need_imput = input(text_question).lower()\n",
        "  if need_imput == 'y' or need_imput == 'n':\n",
        "    if need_imput == 'y':\n",
        "      list_1, list_2 = get_list_numbers(), get_list_numbers()\n",
        "    break\n",
        "\n",
        "print(f'Работаем со списками: \\n{list_1}\\n{list_2}')\n",
        "\n",
        "list_set = list(set(list_1) & set(list_2))\n",
        "list_set.sort()\n",
        "\n",
        "print(f'Вывод: {list_set}')\n"
      ]
    },
    {
      "cell_type": "markdown",
      "metadata": {
        "id": "z812Z0315wGL"
      },
      "source": [
        "## Задача 24: \n",
        "\n",
        "В фермерском хозяйстве в Карелии выращивают чернику. Она растет на\n",
        "круглой грядке, причем кусты высажены только по окружности. Таким образом, у\n",
        "каждого куста есть ровно два соседних. Всего на грядке растет N кустов.\n",
        "\n",
        "Эти кусты обладают разной урожайностью, поэтому ко времени сбора на них\n",
        "выросло различное число ягод – на i-ом кусте выросло ai\n",
        " ягод.\n",
        "\n",
        "В этом фермерском хозяйстве внедрена система автоматического сбора черники.\n",
        "Эта система состоит из управляющего модуля и нескольких собирающих модулей.\n",
        "Собирающий модуль за один заход, находясь непосредственно перед некоторым\n",
        "кустом, собирает ягоды с этого куста и с двух соседних с ним.\n",
        "\n",
        "Напишите программу для нахождения максимального числа ягод, которое может\n",
        "собрать за один заход собирающий модуль, находясь перед некоторым кустом\n",
        "заданной во входном файле грядки.\n",
        "\n",
        "4 -> 1 2 3 4\n",
        "\n",
        "9"
      ]
    },
    {
      "cell_type": "code",
      "execution_count": 38,
      "metadata": {
        "colab": {
          "base_uri": "https://localhost:8080/"
        },
        "id": "GJL14aXC58CR",
        "outputId": "151b4faf-8868-400d-e07b-f55b8854e7dd"
      },
      "outputs": [
        {
          "name": "stdout",
          "output_type": "stream",
          "text": [
            "Сколько кустов в грядке?\n",
            "4\n",
            "Сколько ягод на 1 кусте?\n",
            "0\n",
            "Сколько ягод на 2 кусте?\n",
            "0\n",
            "Сколько ягод на 3 кусте?\n",
            "2\n",
            "Сколько ягод на 4 кусте?\n",
            "0\n",
            "[0, 0, 2, 0]\n",
            "1й куст, 0, 0, 0,   итого: 0\n",
            "2й куст, 0, 0, 2,   итого: 2\n",
            "3й куст, 0, 2, 0,   итого: 2\n",
            "4й куст, 2, 0, 0,   итого: 2\n",
            "Больше всего ягод можно собрать с куста 2, \n",
            "с него и соседних кустов можно собрать 2 ягод.\n"
          ]
        }
      ],
      "source": [
        "count_bushes = int(input('Сколько кустов в грядке?\\n'))\n",
        "bushes = []\n",
        "for i in range(count_bushes):\n",
        "  while True:\n",
        "    blueberries = int(input(f'Сколько ягод на {i + 1} кусте?\\n'))\n",
        "    if blueberries >= 0:\n",
        "      bushes.append(blueberries)\n",
        "      break\n",
        "    else:\n",
        "      print('Ягод на кусте не может быть меньше 0!')\n",
        "\n",
        "print(bushes)\n",
        "\n",
        "max_ = 0\n",
        "ind_max_bush = 0\n",
        "for i in range(len(bushes)):\n",
        "  left_bush = bushes[i - 1]\n",
        "  main_bush = bushes[i]\n",
        "  right_bush = bushes[(len(bushes) - (1 + i)) * -1]\n",
        "\n",
        "  count_blueberries = (left_bush + main_bush + right_bush)\n",
        "\n",
        "  print(f'{i + 1}й куст, {left_bush}, {main_bush}, {right_bush}, \\\n",
        "  итого: {count_blueberries}')\n",
        "  \n",
        "  if count_blueberries > max_:\n",
        "    max_ = count_blueberries\n",
        "    ind_max_bush = i\n",
        "    \n",
        "print(f'Больше всего ягод можно собрать с куста {ind_max_bush + 1}, \\\n",
        "\\nс него и соседних кустов можно собрать {max_} ягод.')"
      ]
    }
  ],
  "metadata": {
    "colab": {
      "provenance": []
    },
    "kernelspec": {
      "display_name": "Python 3",
      "name": "python3"
    },
    "language_info": {
      "name": "python"
    }
  },
  "nbformat": 4,
  "nbformat_minor": 0
}
