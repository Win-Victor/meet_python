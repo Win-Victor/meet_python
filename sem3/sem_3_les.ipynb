{
  "nbformat": 4,
  "nbformat_minor": 0,
  "metadata": {
    "colab": {
      "provenance": []
    },
    "kernelspec": {
      "name": "python3",
      "display_name": "Python 3"
    },
    "language_info": {
      "name": "python"
    }
  },
  "cells": [
    {
      "cell_type": "markdown",
      "source": [
        "Задача №17. Решение в группах\n",
        "\n",
        "Дан список чисел. Определите, сколько в нем\n",
        "встречается различных чисел.\n",
        "\n",
        "Input: [1, 1, 2, 0, -1, 3, 4, 4]\n",
        "\n",
        "Output: 6\n",
        "\n",
        "Примечание: Пользователь может вводить значения\n",
        "списка или список задан изначально."
      ],
      "metadata": {
        "id": "AmyJ_tamLLhI"
      }
    },
    {
      "cell_type": "code",
      "execution_count": null,
      "metadata": {
        "colab": {
          "base_uri": "https://localhost:8080/"
        },
        "id": "R4MzDw-7IVwl",
        "outputId": "235e57ea-ad9d-400c-e26a-844f27e445a0"
      },
      "outputs": [
        {
          "output_type": "stream",
          "name": "stdout",
          "text": [
            "Список есть. Будем вводить новый?\n",
            "Eсли используем готовый список, введите \"N\", \n",
            "если будете вводить - \"Y\"\n",
            "n\n",
            "Наш список: [1, 1, 2, 0, -1, 3, 4, 4].\n",
            "В нем встречается различных чисел: 6.\n"
          ]
        }
      ],
      "source": [
        "question = 'Список есть. Будем вводить новый?'\n",
        "text_question = 'Eсли используем готовый список, введите \"N\", \\nесли будете вводить - \"Y\"\\n'\n",
        "my_list = [1, 1, 2, 0, -1, 3, 4, 4]\n",
        "\n",
        "print(question)\n",
        "need_imput = None\n",
        "\n",
        "while True:\n",
        "  need_imput = input(text_question).lower()\n",
        "\n",
        "  if need_imput == 'y' or need_imput == 'n':\n",
        "    if need_imput == 'y':\n",
        "      my_list = []\n",
        "      while True:\n",
        "        length = input('Сколько чисел будет в списке?\\n')\n",
        "        if length.isdigit():\n",
        "          length = int(length)\n",
        "          for i in range(length):\n",
        "            while True:\n",
        "              temp = input(f'Введите {i + 1}-e число:\\n')\n",
        "              if temp.isdigit() or temp[1:].isdigit(): \n",
        "                my_list.append(int(temp))\n",
        "                break\n",
        "              else:\n",
        "                print('Вводите числа!')\n",
        "          break\n",
        "        else:\n",
        "          print('Введите число целое положительное число:\\n')\n",
        "    break\n",
        "  else:\n",
        "    print('\"Y\" или \"N\":\\n')\n",
        "    \n",
        "\n",
        "print(f'Наш список: {my_list}.')\n",
        "my_set = set(my_list)\n",
        "print(f'В нем встречается различных чисел: {len(my_set)}.')\n"
      ]
    },
    {
      "cell_type": "markdown",
      "source": [
        "Задача №19. Решение в группах\n",
        "\n",
        "Дана последовательность из N целых чисел и число\n",
        "K. Необходимо сдвинуть всю последовательность\n",
        "(сдвиг - циклический) на K элементов вправо, K –\n",
        "положительное число.\n",
        "\n",
        "Input: [1, 2, 3, 4, 5] k = 3\n",
        "\n",
        "Output: [4, 5, 1, 2, 3]\n",
        "\n",
        "Примечание: Пользователь может вводить значения\n",
        "списка или список задан изначально.\n"
      ],
      "metadata": {
        "id": "d0zGrd-xM4Cc"
      }
    },
    {
      "cell_type": "code",
      "execution_count": null,
      "metadata": {
        "colab": {
          "base_uri": "https://localhost:8080/"
        },
        "outputId": "7d2d8b06-9bd9-489b-f3ef-20f196a00828",
        "id": "xVGzAW56h60z"
      },
      "outputs": [
        {
          "output_type": "stream",
          "name": "stdout",
          "text": [
            "my_list = [1, 2, 3, 4, 5]\n",
            "Список есть. Будем вводить новый?\n",
            "Eсли используем готовый список, введите \"N\", \n",
            "если будете вводить - \"Y\"\n",
            "т\n",
            "\"Y\" или \"N\":\n",
            "\n",
            "Eсли используем готовый список, введите \"N\", \n",
            "если будете вводить - \"Y\"\n",
            "n\n",
            "На сколько будет сдвиг?\n",
            "3\n",
            "Список после сдвига: [4, 5, 1, 2, 3]\n"
          ]
        }
      ],
      "source": [
        "my_list = [1, 2, 3, 4, 5]\n",
        "print(f'{my_list = }')\n",
        "\n",
        "print(question)\n",
        "need_imput = None\n",
        "\n",
        "while True:\n",
        "  need_imput = input(text_question).lower()\n",
        "\n",
        "  if need_imput == 'y' or need_imput == 'n':\n",
        "    if need_imput == 'y':\n",
        "      my_list = []\n",
        "      while True:\n",
        "        length = input('Сколько чисел будет в списке?\\n')\n",
        "        if length.isdigit():\n",
        "          length = int(length)\n",
        "          for i in range(length):\n",
        "            while True:\n",
        "              temp = input(f'Введите {i + 1}-e число:\\n')\n",
        "              if temp.isdigit() or temp[1:].isdigit(): \n",
        "                my_list.append(int(temp))\n",
        "                break\n",
        "              else:\n",
        "                print('Вводите числа!')\n",
        "          break\n",
        "        else:\n",
        "          print('Введите число целое положительное число:\\n')\n",
        "    break\n",
        "  else:\n",
        "    print('\"Y\" или \"N\":\\n')\n",
        "\n",
        "while True:\n",
        "  shift_ = input('На сколько будет сдвиг?\\n')\n",
        "  if shift_.isdigit():\n",
        "    shift_ = int(shift_)\n",
        "    break\n",
        "  else:\n",
        "    print('Введите число целое положительное число:\\n')\n",
        "\n",
        "for i in range(shift_):\n",
        "  my_list.append(my_list.pop(0))      \n",
        "\n",
        "\n",
        "print(f'Список после сдвига: {my_list}')\n",
        "\n"
      ]
    },
    {
      "cell_type": "markdown",
      "source": [
        "Задача №21. Решение в группах\n",
        "Напишите программу для печати всех уникальных\n",
        "значений в словаре.\n",
        "\n",
        "Input: [{\"V\": \"S001\"}, {\"V\": \"S002\"}, {\"VI\": \"S001\"},\n",
        "{\"VI\": \"S005\"}, {\"VII\": \" S005 \"}, {\" V \":\" S009 \"}, {\" VIII\n",
        "\":\" S007 \"}]\n",
        "\n",
        "Output: {'S005', 'S002', 'S007', 'S001', 'S009'}\n",
        "\n",
        "Примечание: Список словарей задан изначально.\n",
        "Пользователь его не вводит\n"
      ],
      "metadata": {
        "id": "zups61DMvXpH"
      }
    },
    {
      "cell_type": "code",
      "source": [
        "list_of_dicts = [{\"V\": \"S001\"}, {\"V\": \"S002\"}, {\"VI\": \"S001\"}, {\"VI\": \"S005\"},\n",
        "                {\"VII\": \"S005\"}, {\"V\":\"S009\"}, {\"VIII\":\"S007\"}]\n",
        "unique_values = set()\n",
        "for i in range(len(list_of_dicts)):\n",
        "  unique_values.add(list(list_of_dicts[i].items())[0][1])\n",
        "\n",
        "unique_values"
      ],
      "metadata": {
        "colab": {
          "base_uri": "https://localhost:8080/"
        },
        "id": "5WeZo7QJvdlt",
        "outputId": "3c435338-c196-4435-e862-516e2315bb9f"
      },
      "execution_count": null,
      "outputs": [
        {
          "output_type": "execute_result",
          "data": {
            "text/plain": [
              "{'S001', 'S002', 'S005', 'S007', 'S009'}"
            ]
          },
          "metadata": {},
          "execution_count": 64
        }
      ]
    },
    {
      "cell_type": "markdown",
      "source": [
        "Задача №23. Решение в группах\n",
        "Дан массив, состоящий из целых чисел. Напишите\n",
        "программу, которая подсчитает количество\n",
        "элементов массива, больших предыдущего (элемента\n",
        "с предыдущим номером)\n",
        "\n",
        "Input: [0, -1, 5, 2, 3]\n",
        "\n",
        "Output: 2 (-1 < 5, 2 < 3)\n",
        "\n",
        "Примечание: Пользователь может вводить значения\n",
        "списка или список задан изначально."
      ],
      "metadata": {
        "id": "tRhbNKGb2h8J"
      }
    },
    {
      "cell_type": "code",
      "source": [
        "# my_list = [0, -1, 5, 2, 3]\n",
        "\n",
        "my_list = [1, 2, 3, 4, 5]\n",
        "\n",
        "my_list.reverse()\n",
        "\n",
        "count = 0\n",
        "for i in range(1, len(my_list)):\n",
        "  if my_list[i] > my_list[i-1]:\n",
        "    count += 1\n",
        "print(count)"
      ],
      "metadata": {
        "colab": {
          "base_uri": "https://localhost:8080/"
        },
        "id": "NjMG4CDC2qcY",
        "outputId": "274652fc-21b0-4388-9ba0-1302d7da00bc"
      },
      "execution_count": null,
      "outputs": [
        {
          "output_type": "stream",
          "name": "stdout",
          "text": [
            "[5, 4, 3, 2, 1]\n",
            "0\n"
          ]
        }
      ]
    },
    {
      "cell_type": "markdown",
      "source": [
        "Задача 16: Требуется вычислить, сколько раз встречается некоторое\n",
        "число X в массиве A[1..N]. Пользователь в первой строке вводит\n",
        "натуральное число N – количество элементов в массиве. В последующих\n",
        "строках записаны N целых чисел Ai\n",
        ". Последняя строка содержит число X\n",
        "\n",
        "5\n",
        "\n",
        "1 2 3 4 5\n",
        "\n",
        "3\n",
        "\n",
        "-> 1\n"
      ],
      "metadata": {
        "id": "lu3CqUML46eA"
      }
    },
    {
      "cell_type": "code",
      "source": [
        "my_list = [1, 2, 3, 4, 5]\n",
        "\n",
        "while True:\n",
        "  need_imput = input(text_question).lower()\n",
        "\n",
        "  if need_imput == 'y' or need_imput == 'n':\n",
        "    if need_imput == 'y':\n",
        "      my_list = []\n",
        "      while True:\n",
        "        length = input('Сколько чисел будет в списке?\\n')\n",
        "        if length.isdigit():\n",
        "          length = int(length)\n",
        "          for i in range(length):\n",
        "            while True:\n",
        "              temp = input(f'Введите {i + 1}-e число:\\n')\n",
        "              if temp.isdigit() or temp[1:].isdigit(): \n",
        "                my_list.append(int(temp))\n",
        "                break\n",
        "              else:\n",
        "                print('Вводите числа!')\n",
        "          break\n",
        "        else:\n",
        "          print('Введите число целое положительное число:\\n')\n",
        "    break\n",
        "  else:\n",
        "    print('\"Y\" или \"N\":\\n')\n",
        "\n",
        "print(my_list)\n",
        "number_x = int(input('Какое число ущем и считаем?\\n'))\n",
        "\n",
        "print(my_list.count(number_x))"
      ],
      "metadata": {
        "colab": {
          "base_uri": "https://localhost:8080/"
        },
        "id": "gHKzYO5rAJF9",
        "outputId": "208191c9-a213-44bb-b7cb-0f53b0b80a3e"
      },
      "execution_count": null,
      "outputs": [
        {
          "output_type": "stream",
          "name": "stdout",
          "text": [
            "Eсли используем готовый список, введите \"N\", \n",
            "если будете вводить - \"Y\"\n",
            "8\n",
            "\"Y\" или \"N\":\n",
            "\n",
            "Eсли используем готовый список, введите \"N\", \n",
            "если будете вводить - \"Y\"\n",
            "1\n",
            "\"Y\" или \"N\":\n",
            "\n",
            "Eсли используем готовый список, введите \"N\", \n",
            "если будете вводить - \"Y\"\n",
            "y\n",
            "Сколько чисел будет в списке?\n",
            "8\n",
            "Введите 1-e число:\n",
            "1\n",
            "Введите 2-e число:\n",
            "2\n",
            "Введите 3-e число:\n",
            "2\n",
            "Введите 4-e число:\n",
            "3\n",
            "Введите 5-e число:\n",
            "3\n",
            "Введите 6-e число:\n",
            "4\n",
            "Введите 7-e число:\n",
            "5\n",
            "Введите 8-e число:\n",
            "5\n",
            "[1, 2, 2, 3, 3, 4, 5, 5]\n",
            "Какое число ущем и считаем?\n",
            "3\n",
            "2\n"
          ]
        }
      ]
    },
    {
      "cell_type": "markdown",
      "source": [
        "Задача 18: Требуется найти в массиве A[1..N] самый близкий по\n",
        "величине элемент к заданному числу X. Пользователь в первой строке\n",
        "вводит натуральное число N – количество элементов в массиве. В\n",
        "последующих строках записаны N целых чисел Ai\n",
        ". \n",
        "\n",
        "Последняя строка\n",
        "содержит число X\n",
        "\n",
        "\n",
        "5\n",
        "\n",
        "1 2 3 4 5\n",
        "\n",
        "6\n",
        "\n",
        "-> 5"
      ],
      "metadata": {
        "id": "DAgHdc-oEeKs"
      }
    },
    {
      "cell_type": "code",
      "source": [
        "my_list = [1, 2, 3, 4, 5]\n",
        "\n",
        "while True:\n",
        "  need_imput = input(text_question).lower()\n",
        "\n",
        "  if need_imput == 'y' or need_imput == 'n':\n",
        "    if need_imput == 'y':\n",
        "      my_list = []\n",
        "      while True:\n",
        "        length = input('Сколько чисел будет в списке?\\n')\n",
        "        if length.isdigit():\n",
        "          length = int(length)\n",
        "          for i in range(length):\n",
        "            while True:\n",
        "              temp = input(f'Введите {i + 1}-e число:\\n')\n",
        "              if temp.isdigit() or temp[1:].isdigit(): \n",
        "                my_list.append(int(temp))\n",
        "                break\n",
        "              else:\n",
        "                print('Вводите числа!')\n",
        "          break\n",
        "        else:\n",
        "          print('Введите число целое положительное число:\\n')\n",
        "    break\n",
        "  else:\n",
        "    print('\"Y\" или \"N\":\\n')\n",
        "\n",
        "\n",
        "print(my_list)\n",
        "number_x = int(input('Какое число для сравнения?\\n'))\n",
        "\n",
        "index_close_element = 0\n",
        "for i in range(1, len(my_list)):\n",
        "  if abs(number_x - my_list[i]) < abs(number_x - my_list[index_close_element]):\n",
        "    index_close_element = i\n",
        "\n",
        "print(f'Ближайшее к число {number_x} число {my_list[index_close_element]}')\n"
      ],
      "metadata": {
        "colab": {
          "base_uri": "https://localhost:8080/"
        },
        "id": "Ln5y-TLhE5i8",
        "outputId": "1913b837-8dbd-4f4f-8269-381dd462078e"
      },
      "execution_count": null,
      "outputs": [
        {
          "output_type": "stream",
          "name": "stdout",
          "text": [
            "Eсли используем готовый список, введите \"N\", \n",
            "если будете вводить - \"Y\"\n",
            "y\n",
            "Сколько чисел будет в списке?\n",
            "6\n",
            "Введите 1-e число:\n",
            "22\n",
            "Введите 2-e число:\n",
            "1\n",
            "Введите 3-e число:\n",
            "-100\n",
            "Введите 4-e число:\n",
            "99\n",
            "Введите 5-e число:\n",
            "77\n",
            "Введите 6-e число:\n",
            "12\n",
            "[22, 1, -100, 99, 77, 12]\n",
            "Какое число для сравнения?\n",
            "100\n",
            "Ближайшее к число 100 число: 99\n"
          ]
        }
      ]
    },
    {
      "cell_type": "markdown",
      "source": [
        "Задача 20: В настольной игре Скрабл (Scrabble) каждая буква имеет определенную\n",
        "ценность. В случае с английским алфавитом очки распределяются так:\n",
        "\n",
        "● A, E, I, O, U, L, N, S, T, R – 1 очко;\n",
        "\n",
        "● D, G – 2 очка;\n",
        "\n",
        "● B, C, M, P – 3 очка;\n",
        "\n",
        "● F, H, V, W, Y – 4 очка;\n",
        "\n",
        "● K – 5 очков;\n",
        "\n",
        "● J, X – 8 очков;\n",
        "\n",
        "● Q, Z – 10 очков.\n",
        "\n",
        "А русские буквы оцениваются так:\n",
        "\n",
        "● А, В, Е, И, Н, О, Р, С, Т – 1 очко;\n",
        "\n",
        "● Д, К, Л, М, П, У – 2 очка;\n",
        "\n",
        "● Б, Г, Ё, Ь, Я – 3 очка;\n",
        "\n",
        "● Й, Ы – 4 очка;\n",
        "\n",
        "● Ж, З, Х, Ц, Ч – 5 очков;\n",
        "\n",
        "● Ш, Э, Ю – 8 очков;\n",
        "\n",
        "● Ф, Щ, Ъ – 10 очков.\n",
        "\n",
        "Напишите программу, которая вычисляет стоимость введенного пользователем слова.\n",
        "Будем считать, что на вход подается только одно слово, которое содержит либо только\n",
        "английские, либо только русские буквы.\n",
        "\n",
        "Ввод:\n",
        "\n",
        "ноутбук\n",
        "\n",
        "Вывод:\n",
        "\n",
        "12"
      ],
      "metadata": {
        "id": "lmFR1ZPKOXRg"
      }
    },
    {
      "cell_type": "code",
      "source": [
        "point_1_eng = [('A', 'E', 'I', 'O', 'U', 'L', 'N', 'S', 'T', 'R'), 1]\n",
        "point_2_eng = [('D', 'G'), 2]\n",
        "point_3_eng = [('B', 'C', 'M', 'P'), 3]\n",
        "point_4_eng = [('F', 'H', 'V', 'W', 'Y'), 4]\n",
        "point_5_eng = [('K',), 5]\n",
        "point_8_eng = [('J', 'X'), 8]\n",
        "point_10_eng = [('Q', 'Z'), 10]\n",
        "\n",
        "english_points = [point_1_eng, point_2_eng, point_3_eng, \n",
        "                  point_4_eng, point_5_eng, point_8_eng, point_10_eng]\n",
        "\n",
        "dict_eng_points = dict()\n",
        "for j in range(len(english_points)):\n",
        "  for i in range(len(english_points[j][0])):\n",
        "    dict_eng_points[english_points[j][0][i]] = english_points[j][1]\n",
        "\n",
        "# print(dict_eng_points)\n",
        "\n",
        "point_1_rus = [('А', 'В', 'Е', 'И', 'Н', 'О', 'Р', 'С', 'Т'), 1]\n",
        "point_2_rus = [('Д', 'К', 'Л', 'М', 'П', 'У'), 2]\n",
        "point_3_rus = [('Б', 'Г', 'Ё', 'Ь', 'Я'), 3]\n",
        "point_4_rus = [('Й', 'Ы'), 4]\n",
        "point_5_rus = [('Ж', 'З', 'Х', 'Ц', 'Ч'), 5]\n",
        "point_8_rus = [('Ш', 'Э', 'Ю'), 8]\n",
        "point_10_rus = [('Ф', 'Щ', 'Ъ'), 10]\n",
        "\n",
        "russian_points = [point_1_rus, point_2_rus, point_3_rus, point_4_rus, \n",
        "                  point_5_rus, point_8_rus, point_10_rus]\n",
        "\n",
        "dict_rus_points = dict()\n",
        "for j in range(len(russian_points)):\n",
        "  for i in range(len(russian_points[j][0])):\n",
        "    dict_rus_points[russian_points[j][0][i]] = russian_points[j][1]\n",
        "\n",
        "# print(dict_rus_points)\n",
        "\n",
        "dict_total_points = dict_eng_points | dict_rus_points\n",
        "dict_total_points[' '] = 0\n",
        "\n",
        "# print(dict_total_points)\n",
        "\n",
        "word = input('Enter word:\\n')\n",
        "\n",
        "sum_of_word = 0\n",
        "for i in range(len(word)):\n",
        "  sum_of_word += dict_total_points[word[i].upper()]\n",
        "\n",
        "print(sum_of_word)\n"
      ],
      "metadata": {
        "colab": {
          "base_uri": "https://localhost:8080/"
        },
        "id": "RMJaHQqkOo-f",
        "outputId": "b9891d4d-a832-4025-e2f0-e89be922fefe"
      },
      "execution_count": null,
      "outputs": [
        {
          "output_type": "stream",
          "name": "stdout",
          "text": [
            "{'A': 1, 'E': 1, 'I': 1, 'O': 1, 'U': 1, 'L': 1, 'N': 1, 'S': 1, 'T': 1, 'R': 1, 'D': 2, 'G': 2, 'B': 3, 'C': 3, 'M': 3, 'P': 3, 'F': 4, 'H': 4, 'V': 4, 'W': 4, 'Y': 4, 'K': 5, 'J': 8, 'X': 8, 'Q': 10, 'Z': 10, 'А': 1, 'В': 1, 'Е': 1, 'И': 1, 'Н': 1, 'О': 1, 'Р': 1, 'С': 1, 'Т': 1, 'Д': 2, 'К': 2, 'Л': 2, 'М': 2, 'П': 2, 'У': 2, 'Б': 3, 'Г': 3, 'Ё': 3, 'Ь': 3, 'Я': 3, 'Й': 4, 'Ы': 4, 'Ж': 5, 'З': 5, 'Х': 5, 'Ц': 5, 'Ч': 5, 'Ш': 8, 'Э': 8, 'Ю': 8, 'Ф': 10, 'Щ': 10, 'Ъ': 10, ' ': 0}\n",
            "Enter word:\n",
            "мама мыла ramu и NOUTeBoOk\n",
            "37\n"
          ]
        }
      ]
    }
  ]
}